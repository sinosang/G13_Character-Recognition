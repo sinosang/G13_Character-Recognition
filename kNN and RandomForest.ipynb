{
 "cells": [
  {
   "cell_type": "code",
   "execution_count": 1,
   "id": "e7288834",
   "metadata": {},
   "outputs": [],
   "source": [
    "import torch\n",
    "import torch.nn as nn\n",
    "import torch.utils.data as Data\n",
    "import torchvision \n",
    "import matplotlib.pyplot as plt\n",
    "\n",
    "import numpy as np "
   ]
  },
  {
   "cell_type": "code",
   "execution_count": null,
   "id": "09dedeaf",
   "metadata": {},
   "outputs": [],
   "source": [
    "#from sklearn.datasets import fetch_openml\n",
    "#emnist = fetch_openml('EMNIST_letters')\n",
    "# X, y = emnist['data'], emnist['target']\n",
    "# X = np.array(X)\n",
    "# y = np.array(y)\n",
    "# from sklearn.model_selection import train_test_split\n",
    "\n",
    "# X_train, X_test, y_train, y_test = train_test_split(X, y, random_state=666)"
   ]
  },
  {
   "cell_type": "code",
   "execution_count": 2,
   "id": "9b68ec6f",
   "metadata": {},
   "outputs": [],
   "source": [
    "# EMNIST 手写字母 训练集\n",
    "train_data = torchvision.datasets.EMNIST(\n",
    "    root='./data',\n",
    "    train=True,\n",
    "    transform=torchvision.transforms.ToTensor(),\n",
    "    download = False,\n",
    "    split = 'letters' \n",
    ")\n",
    "# EMNIST 手写字母 测试集\n",
    "test_data = torchvision.datasets.EMNIST(\n",
    "    root='./data',\n",
    "    train=False,\n",
    "    transform=torchvision.transforms.ToTensor(),\n",
    "    download=False,\n",
    "    split = 'letters'     \n",
    ")"
   ]
  },
  {
   "cell_type": "code",
   "execution_count": 19,
   "id": "70419f60",
   "metadata": {},
   "outputs": [
    {
     "data": {
      "text/plain": [
       "torch.Tensor"
      ]
     },
     "execution_count": 19,
     "metadata": {},
     "output_type": "execute_result"
    }
   ],
   "source": [
    "type(train_data.data)"
   ]
  },
  {
   "cell_type": "code",
   "execution_count": 3,
   "id": "0b83dae2",
   "metadata": {},
   "outputs": [],
   "source": [
    "X_train = train_data.data.numpy()\n",
    "y_train = train_data.targets.numpy()\n",
    "X_test = test_data.data.numpy()\n",
    "y_test = test_data.targets.numpy()"
   ]
  },
  {
   "cell_type": "code",
   "execution_count": 20,
   "id": "59a795d7",
   "metadata": {},
   "outputs": [
    {
     "data": {
      "text/plain": [
       "numpy.ndarray"
      ]
     },
     "execution_count": 20,
     "metadata": {},
     "output_type": "execute_result"
    }
   ],
   "source": [
    "type(X_train)"
   ]
  },
  {
   "cell_type": "code",
   "execution_count": 18,
   "id": "9e8a64af",
   "metadata": {},
   "outputs": [
    {
     "data": {
      "text/plain": [
       "(124800, 28, 28)"
      ]
     },
     "execution_count": 18,
     "metadata": {},
     "output_type": "execute_result"
    }
   ],
   "source": [
    "X_train.shape"
   ]
  },
  {
   "cell_type": "code",
   "execution_count": 4,
   "id": "7dbf2e1a",
   "metadata": {},
   "outputs": [],
   "source": [
    "X_train_2D = (X_train.reshape(X_train.shape[0], X_train.shape[1] * X_train.shape[2]))\n",
    "X_test_2D = (X_test.reshape(X_test.shape[0], X_test.shape[1] * X_test.shape[2]))\n"
   ]
  },
  {
   "cell_type": "code",
   "execution_count": 40,
   "id": "91d247c8",
   "metadata": {},
   "outputs": [
    {
     "data": {
      "text/plain": [
       "(124800, 784)"
      ]
     },
     "execution_count": 40,
     "metadata": {},
     "output_type": "execute_result"
    }
   ],
   "source": [
    "X_train_2D.shape"
   ]
  },
  {
   "cell_type": "code",
   "execution_count": 5,
   "id": "6e73404e",
   "metadata": {},
   "outputs": [],
   "source": [
    "from sklearn.decomposition import PCA \n",
    "pca = PCA(0.90) # 数据量较大，因此只保存90%的信息\n",
    "pca.fit(X_train_2D)\n",
    "\n",
    "# 采用训练好的pca将训练和测试数据集降维\n",
    "X_train_reduction = pca.transform(X_train_2D)\n",
    "X_test_reduction = pca.transform(X_test_2D)"
   ]
  },
  {
   "cell_type": "code",
   "execution_count": 6,
   "id": "acc334e3",
   "metadata": {},
   "outputs": [
    {
     "data": {
      "text/plain": [
       "(124800, 68)"
      ]
     },
     "execution_count": 6,
     "metadata": {},
     "output_type": "execute_result"
    }
   ],
   "source": [
    "X_train_reduction.shape"
   ]
  },
  {
   "cell_type": "markdown",
   "id": "5ef4a33c",
   "metadata": {},
   "source": [
    "# 使用KNN"
   ]
  },
  {
   "cell_type": "code",
   "execution_count": 7,
   "id": "9d80baee",
   "metadata": {},
   "outputs": [
    {
     "data": {
      "text/plain": [
       "KNeighborsClassifier()"
      ]
     },
     "execution_count": 7,
     "metadata": {},
     "output_type": "execute_result"
    }
   ],
   "source": [
    "from sklearn.neighbors import KNeighborsClassifier\n",
    "\n",
    "knn_clf = KNeighborsClassifier()\n",
    "knn_clf.fit(X_train_reduction, y_train)"
   ]
  },
  {
   "cell_type": "code",
   "execution_count": 8,
   "id": "8b6e1439",
   "metadata": {},
   "outputs": [
    {
     "data": {
      "text/plain": [
       "0.8800961538461538"
      ]
     },
     "execution_count": 8,
     "metadata": {},
     "output_type": "execute_result"
    }
   ],
   "source": [
    "knn_clf.score(X_test_reduction, y_test)"
   ]
  },
  {
   "cell_type": "markdown",
   "id": "63cd789a",
   "metadata": {},
   "source": [
    "### 学习曲线函数"
   ]
  },
  {
   "cell_type": "code",
   "execution_count": 13,
   "id": "1b28cf4d",
   "metadata": {},
   "outputs": [],
   "source": [
    "from sklearn.metrics import mean_squared_error\n",
    "\n",
    "def plot_learning_curve(algo, X_train, X_test, y_train, y_test):\n",
    "    train_score = []\n",
    "    test_score = []\n",
    "    for i in range(5, len(X_train)+1,1000):\n",
    "        algo.fit(X_train[:i], y_train[:i])\n",
    "    \n",
    "        y_train_predict = algo.predict(X_train[:i])\n",
    "        train_score.append(mean_squared_error(y_train[:i], y_train_predict))\n",
    "    \n",
    "        y_test_predict = algo.predict(X_test)\n",
    "        test_score.append(mean_squared_error(y_test, y_test_predict))\n",
    "        \n",
    "    plt.plot([i for i in range(5, len(X_train)+1,1000)], \n",
    "                               np.sqrt(train_score), label=\"train\")\n",
    "    plt.plot([i for i in range(5, len(X_train)+1,1000)], \n",
    "                               np.sqrt(test_score), label=\"test\")\n",
    "    plt.legend()\n",
    "    #plt.axis([0, len(X_train)+1],0,20)\n",
    "    plt.show()"
   ]
  },
  {
   "cell_type": "code",
   "execution_count": 14,
   "id": "46fe0c6c",
   "metadata": {},
   "outputs": [
    {
     "data": {
      "image/png": "[encoded data removed]",
      "text/plain": [
       "<Figure size 640x480 with 1 Axes>"
      ]
     },
     "metadata": {},
     "output_type": "display_data"
    }
   ],
   "source": [
    "from sklearn.neighbors import KNeighborsClassifier\n",
    "\n",
    "plot_learning_curve(KNeighborsClassifier(n_jobs = -1), X_train_reduction[:20000], X_test_reduction[:20000], y_train[:20000], y_test[:20000])"
   ]
  },
  {
   "cell_type": "markdown",
   "id": "a9e52cc5",
   "metadata": {},
   "source": [
    "# 随机森林"
   ]
  },
  {
   "cell_type": "code",
   "execution_count": 44,
   "id": "d525d972",
   "metadata": {},
   "outputs": [
    {
     "data": {
      "text/plain": [
       "RandomForestClassifier(n_estimators=500, n_jobs=-1, oob_score=True)"
      ]
     },
     "execution_count": 44,
     "metadata": {},
     "output_type": "execute_result"
    }
   ],
   "source": [
    "from sklearn.ensemble import RandomForestClassifier\n",
    "\n",
    "rf_clf = RandomForestClassifier(n_estimators=500, oob_score=True, n_jobs=-1)\n",
    "rf_clf.fit(X_train_reduction, y_train)"
   ]
  },
  {
   "cell_type": "code",
   "execution_count": 45,
   "id": "57fe220a",
   "metadata": {},
   "outputs": [
    {
     "data": {
      "text/plain": [
       "0.8644711538461538"
      ]
     },
     "execution_count": 45,
     "metadata": {},
     "output_type": "execute_result"
    }
   ],
   "source": [
    "rf_clf.score(X_test_reduction, y_test)\n",
    "#rf_clf.oob_score_"
   ]
  },
  {
   "cell_type": "markdown",
   "id": "b13a24bb",
   "metadata": {},
   "source": [
    "### 学习率曲线"
   ]
  },
  {
   "cell_type": "code",
   "execution_count": 18,
   "id": "3a36f7b6",
   "metadata": {},
   "outputs": [
    {
     "data": {
      "image/png": "[encoded data removed]",
      "text/plain": [
       "<Figure size 640x480 with 1 Axes>"
      ]
     },
     "metadata": {},
     "output_type": "display_data"
    }
   ],
   "source": [
    "from sklearn.ensemble import RandomForestClassifier\n",
    "\n",
    "plot_learning_curve(RandomForestClassifier(n_estimators=500, oob_score=True, n_jobs=-1), X_train_reduction[:20000], X_test_reduction[:20000], y_train[:20000], y_test[:20000])"
   ]
  },
  {
   "cell_type": "code",
   "execution_count": 10,
   "id": "afe9ce69",
   "metadata": {},
   "outputs": [
    {
     "name": "stdout",
     "output_type": "stream",
     "text": [
      "A.jpg\n",
      "B.jpg\n",
      "C.jpg\n",
      "D.jpg\n",
      "E.jpg\n",
      "F.jpg\n",
      "G.jpg\n",
      "H.jpg\n",
      "I.jpg\n",
      "J.jpg\n",
      "K.jpg\n",
      "L.jpg\n",
      "M.jpg\n"
     ]
    }
   ],
   "source": [
    "import os\n",
    "from PIL import Image\n",
    "import re\n",
    "import numpy as np\n",
    "import matplotlib.pyplot as plt\n",
    "import matplotlib\n",
    "\n",
    "# this function is for read image,the input is directory name\n",
    "def read_directory(directory_name):\n",
    "    # this loop is for read each image in this foder,directory_name is the foder name with images.\n",
    "    file=open('E:/MyProject/digits/data.txt','w') \n",
    "    for filename in os.listdir(directory_name):\n",
    "        #img is used to store the image data \n",
    "        img = Image.open(directory_name + \"/\" + filename)\n",
    "        img = img.convert('L')  # 灰度化\n",
    "        img_array = np.array(img)\n",
    "        X_temp = np.array((255-img_array), dtype=float)\n",
    "    \n",
    "        print(filename)\n",
    "        file.write(str(X_temp)); \n",
    "    file.close()\n",
    "\n",
    "read_directory(\"E:/MyProject/digits/img2\")"
   ]
  },
  {
   "cell_type": "code",
   "execution_count": 11,
   "id": "8605a8f1",
   "metadata": {},
   "outputs": [],
   "source": [
    "import re\n",
    "\n",
    "# 打开文件\n",
    "f = open('E:/MyProject/digits/data.txt','r')\n",
    "fs = f.readlines()\n",
    "s = fs\n",
    "f.close()\n",
    "\n",
    "# 正则过滤非数字\n",
    "for i in range(len(s)):\n",
    "        s[i] = re.sub(r'\\D', \" \", s[i])\n",
    "           \n",
    "# 将 s 按空格拆分存到 spl 中   \n",
    "sp = []\n",
    "spl = [] \n",
    "for i in range(len(s)):\n",
    "    sp = s[i].split()\n",
    "    for j in range(len(sp)):\n",
    "         spl.append(sp[j])\n",
    "                   \n",
    "arr= []\n",
    "arr2 = []\n",
    "\n",
    "# 按每784个一组，将spl中的数据存到arr2中\n",
    "for l in range(int(len(spl)/784)):\n",
    "    for i in range(784*l,784*(l+1)):\n",
    "        arr.append(spl[i])\n",
    "    \n",
    "    arr2.append(arr)\n",
    "    arr = []\n",
    "    \n",
    "# 将 arr2 转换为数组存入arr3\n",
    "arr3=np.asarray(arr2)"
   ]
  },
  {
   "cell_type": "code",
   "execution_count": 12,
   "id": "b0aa5f1e",
   "metadata": {},
   "outputs": [],
   "source": [
    "# 将待预测值用训练好的pca降维\n",
    "X_test = pca.transform(arr3)"
   ]
  },
  {
   "cell_type": "markdown",
   "id": "2692ce8d",
   "metadata": {},
   "source": [
    "### 随机森林预测"
   ]
  },
  {
   "cell_type": "code",
   "execution_count": 49,
   "id": "42910d50",
   "metadata": {},
   "outputs": [
    {
     "data": {
      "text/plain": [
       "array([ 1,  1,  3,  4,  5,  6, 17, 25, 20, 20,  8, 12, 13], dtype=int64)"
      ]
     },
     "execution_count": 49,
     "metadata": {},
     "output_type": "execute_result"
    }
   ],
   "source": [
    "y_predict = rf_clf.predict(X_test)\n",
    "y_predict"
   ]
  },
  {
   "cell_type": "code",
   "execution_count": 50,
   "id": "416c389f",
   "metadata": {
    "scrolled": true
   },
   "outputs": [
    {
     "data": {
      "text/plain": [
       "['A', 'A', 'C', 'D', 'E', 'F', 'Q', 'Y', 'T', 'T', 'H', 'L', 'M']"
      ]
     },
     "execution_count": 50,
     "metadata": {},
     "output_type": "execute_result"
    }
   ],
   "source": [
    "y_predict_chr = [chr(64+int(i)) for i in y_predict]\n",
    "y_predict_chr"
   ]
  },
  {
   "cell_type": "markdown",
   "id": "8eba3ffc",
   "metadata": {},
   "source": [
    "### KNN预测"
   ]
  },
  {
   "cell_type": "code",
   "execution_count": 13,
   "id": "68a6f002",
   "metadata": {},
   "outputs": [
    {
     "data": {
      "text/plain": [
       "array([17,  7,  3,  4,  6,  6,  7, 20, 12,  9, 11, 12, 13], dtype=int64)"
      ]
     },
     "execution_count": 13,
     "metadata": {},
     "output_type": "execute_result"
    }
   ],
   "source": [
    "y_predict = knn_clf.predict(X_test)\n",
    "y_predict"
   ]
  },
  {
   "cell_type": "code",
   "execution_count": 14,
   "id": "5daf8cc4",
   "metadata": {},
   "outputs": [
    {
     "data": {
      "text/plain": [
       "['Q', 'G', 'C', 'D', 'F', 'F', 'G', 'T', 'L', 'I', 'K', 'L', 'M']"
      ]
     },
     "execution_count": 14,
     "metadata": {},
     "output_type": "execute_result"
    }
   ],
   "source": [
    "y_predict_chr = [chr(64+i) for i in y_predict]\n",
    "y_predict_chr"
   ]
  },
  {
   "cell_type": "markdown",
   "id": "f09f8f95",
   "metadata": {},
   "source": [
    "# 处理图片以更好预测"
   ]
  },
  {
   "cell_type": "markdown",
   "id": "676825fa",
   "metadata": {},
   "source": [
    "### 处理图片尺寸"
   ]
  },
  {
   "cell_type": "markdown",
   "id": "f5e41eaf",
   "metadata": {},
   "source": [
    "### 镜像翻转后逆时针旋转90度"
   ]
  },
  {
   "cell_type": "code",
   "execution_count": 22,
   "id": "e070388e",
   "metadata": {},
   "outputs": [
    {
     "name": "stdout",
     "output_type": "stream",
     "text": [
      "E:\\MyProject\\digits\\img2\n",
      "E:\\MyProject\\digits\\img2\\A.jpg\n",
      "E:\\MyProject\\digits\\img2\\B.jpg\n",
      "E:\\MyProject\\digits\\img2\\C.jpg\n",
      "E:\\MyProject\\digits\\img2\\D.jpg\n",
      "E:\\MyProject\\digits\\img2\\E.jpg\n",
      "E:\\MyProject\\digits\\img2\\F.jpg\n",
      "E:\\MyProject\\digits\\img2\\G.jpg\n",
      "E:\\MyProject\\digits\\img2\\H.jpg\n",
      "E:\\MyProject\\digits\\img2\\I.jpg\n",
      "E:\\MyProject\\digits\\img2\\J.jpg\n",
      "E:\\MyProject\\digits\\img2\\K.jpg\n",
      "E:\\MyProject\\digits\\img2\\L.jpg\n",
      "E:\\MyProject\\digits\\img2\\M.jpg\n"
     ]
    },
    {
     "name": "stderr",
     "output_type": "stream",
     "text": [
      "C:\\Users\\86189\\AppData\\Local\\Temp\\ipykernel_27556\\1765670956.py:25: DeprecationWarning: FLIP_LEFT_RIGHT is deprecated and will be removed in Pillow 10 (2023-07-01). Use Transpose.FLIP_LEFT_RIGHT instead.\n",
      "  out1 = out.transpose(Image.FLIP_LEFT_RIGHT)  # 水平翻转\n"
     ]
    }
   ],
   "source": [
    "import sys\n",
    "import cv2\n",
    "import os\n",
    "from PIL import Image\n",
    "from PIL import ImageDraw\n",
    "\n",
    "\n",
    "path = 'E:\\MyProject\\digits\\img2'\n",
    "print(path)\n",
    "im_file = os.listdir(path)\n",
    "\n",
    "for im_file_index_i in im_file:\n",
    "\n",
    "    path = 'E:\\MyProject\\digits\\img2'\n",
    "    im_test = os.path.join(path, im_file_index_i)\n",
    "    print(im_test)\n",
    "    img1 = Image.open(im_test)\n",
    "\n",
    "    #out = Image.open(im_test)\n",
    "    out = img1.resize((28,28)) #尺寸处理\n",
    "    out1 = out.transpose(Image.FLIP_LEFT_RIGHT)  # 水平翻转\n",
    "    out3 = out1.rotate(90)                            #45°顺时针翻转\n",
    "\n",
    "\n",
    "    name2 = 'E:/MyProject/digits/img2//' + im_file_index_i\n",
    "    out3.save(name2)"
   ]
  },
  {
   "cell_type": "code",
   "execution_count": 16,
   "id": "4dd68c7d",
   "metadata": {},
   "outputs": [
    {
     "name": "stdout",
     "output_type": "stream",
     "text": [
      "[59]\n"
     ]
    }
   ],
   "source": [
    "ch = np.array(y_train,dtype= int)\n",
    "g=np.argwhere(ch==1)\n",
    "print (g[4])"
   ]
  },
  {
   "cell_type": "code",
   "execution_count": 17,
   "id": "5ba9de40",
   "metadata": {},
   "outputs": [
    {
     "data": {
      "image/png": "[encoded data removed]",
      "text/plain": [
       "<Figure size 640x480 with 1 Axes>"
      ]
     },
     "metadata": {},
     "output_type": "display_data"
    }
   ],
   "source": [
    "import matplotlib\n",
    "\n",
    "temp = np.array(X_train_2D[59], dtype=float)\n",
    "some_digit = temp\n",
    "some_digit_image = some_digit.reshape(28, 28)\n",
    "\n",
    "plt.imshow(some_digit_image, cmap = matplotlib.cm.binary)\n",
    "plt.show()"
   ]
  },
  {
   "cell_type": "code",
   "execution_count": null,
   "id": "13f60b48",
   "metadata": {},
   "outputs": [],
   "source": []
  }
 ],
 "metadata": {
  "kernelspec": {
   "display_name": "pytorch_gpu",
   "language": "python",
   "name": "pytorch_gpu"
  },
  "language_info": {
   "codemirror_mode": {
    "name": "ipython",
    "version": 3
   },
   "file_extension": ".py",
   "mimetype": "text/x-python",
   "name": "python",
   "nbconvert_exporter": "python",
   "pygments_lexer": "ipython3",
   "version": "3.9.13"
  }
 },
 "nbformat": 4,
 "nbformat_minor": 5
}
