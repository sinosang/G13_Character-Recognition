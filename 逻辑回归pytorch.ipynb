{
 "cells": [
  {
   "cell_type": "code",
   "execution_count": 1,
   "id": "057bce10",
   "metadata": {},
   "outputs": [],
   "source": [
    "import torch\n",
    "import torch.nn as nn\n",
    "import torchvision\n",
    "import torchvision.transforms as transforms\n"
   ]
  },
  {
   "cell_type": "code",
   "execution_count": 2,
   "id": "5722441e",
   "metadata": {},
   "outputs": [],
   "source": [
    "# 设置超参数 \n",
    "input_size = 784   #28*28\n",
    "num_classes = 10   #0~9\n",
    "num_epochs = 50\n",
    "batch_size = 100\n",
    "learning_rate = 0.001\n"
   ]
  },
  {
   "cell_type": "code",
   "execution_count": 3,
   "id": "be0c3122",
   "metadata": {},
   "outputs": [],
   "source": [
    " # 下载手写体数据集 MNIST \n",
    "train_dataset = torchvision.datasets.MNIST(root='data', \n",
    "                                           train=True, \n",
    "                                           transform=transforms.ToTensor(),\n",
    "                                           download=False,\n",
    "                                           \n",
    "                                           )\n",
    " \n",
    "test_dataset = torchvision.datasets.MNIST(root='data', \n",
    "                                          train=False, \n",
    "                                          transform=transforms.ToTensor(),\n",
    "                                          )\n",
    " "
   ]
  },
  {
   "cell_type": "code",
   "execution_count": 4,
   "id": "97913fc3",
   "metadata": {},
   "outputs": [],
   "source": [
    "# 设置数据加载器\n",
    "train_loader = torch.utils.data.DataLoader(dataset=train_dataset, \n",
    "                                           batch_size=batch_size, \n",
    "                                           shuffle=True)\n",
    " \n",
    "test_loader = torch.utils.data.DataLoader(dataset=test_dataset, \n",
    "                                          batch_size=batch_size, \n",
    "                                          shuffle=False)\n",
    " "
   ]
  },
  {
   "cell_type": "code",
   "execution_count": 5,
   "id": "33dbb58c",
   "metadata": {},
   "outputs": [
    {
     "data": {
      "text/plain": [
       "torch.Size([60000, 28, 28])"
      ]
     },
     "execution_count": 5,
     "metadata": {},
     "output_type": "execute_result"
    }
   ],
   "source": [
    "train_loader.dataset.data.shape"
   ]
  },
  {
   "cell_type": "code",
   "execution_count": 6,
   "id": "632de8cd",
   "metadata": {},
   "outputs": [
    {
     "data": {
      "text/plain": [
       "device(type='cuda')"
      ]
     },
     "execution_count": 6,
     "metadata": {},
     "output_type": "execute_result"
    }
   ],
   "source": [
    "# 判定GPU是否存在\n",
    "device = torch.device('cuda'if torch.cuda.is_available() else 'cpu')\n",
    "device"
   ]
  },
  {
   "cell_type": "code",
   "execution_count": 7,
   "id": "32305d40",
   "metadata": {},
   "outputs": [],
   "source": [
    "# Logistic 回归模型\n",
    "model = nn.Linear(input_size, num_classes).to(device)\n",
    " "
   ]
  },
  {
   "cell_type": "code",
   "execution_count": 8,
   "id": "d78460d8",
   "metadata": {},
   "outputs": [],
   "source": [
    "# 定义损失函数Loss 和优化器 optimizer\n",
    "criterion = nn.CrossEntropyLoss()   #交叉熵\n",
    "optimizer = torch.optim.SGD(model.parameters(), lr=learning_rate)  \n"
   ]
  },
  {
   "cell_type": "code",
   "execution_count": 9,
   "id": "859e6d5b",
   "metadata": {},
   "outputs": [
    {
     "name": "stdout",
     "output_type": "stream",
     "text": [
      "{'learning_rate': [0.01, 0.001], 'batch_size': [100, 1000]}\n"
     ]
    }
   ],
   "source": [
    "from itertools import product\n",
    "\n",
    "parameters = dict(\n",
    "    learning_rate = [0.01,0.001],\n",
    "    batch_size= [100,1000]\n",
    ")\n",
    "\n",
    "print(parameters)\n"
   ]
  },
  {
   "cell_type": "code",
   "execution_count": 10,
   "id": "a7e28c18",
   "metadata": {},
   "outputs": [
    {
     "name": "stdout",
     "output_type": "stream",
     "text": [
      "[[0.01, 0.001], [100, 1000]]\n"
     ]
    }
   ],
   "source": [
    "param_values = [v for v in parameters.values()]\n",
    "print(param_values)"
   ]
  },
  {
   "cell_type": "code",
   "execution_count": 11,
   "id": "8095e244",
   "metadata": {},
   "outputs": [
    {
     "name": "stdout",
     "output_type": "stream",
     "text": [
      "0.01 100\n",
      "0.01 1000\n",
      "0.001 100\n",
      "0.001 1000\n"
     ]
    }
   ],
   "source": [
    "for learning_rate,batch_size in product(*param_values):\n",
    "    print(learning_rate,batch_size)"
   ]
  },
  {
   "cell_type": "code",
   "execution_count": 12,
   "id": "3453dec8",
   "metadata": {
    "scrolled": true
   },
   "outputs": [
    {
     "name": "stdout",
     "output_type": "stream",
     "text": [
      "Epoch [1/50], Step [100/600], Loss: 2.2108\n",
      "Epoch [1/50], Step [200/600], Loss: 2.1059\n",
      "Epoch [1/50], Step [300/600], Loss: 2.0120\n",
      "Epoch [1/50], Step [400/600], Loss: 1.9673\n",
      "Epoch [1/50], Step [500/600], Loss: 1.8602\n",
      "Epoch [1/50], Step [600/600], Loss: 1.7841\n",
      "Epoch [2/50], Step [100/600], Loss: 1.7824\n",
      "Epoch [2/50], Step [200/600], Loss: 1.6769\n",
      "Epoch [2/50], Step [300/600], Loss: 1.6864\n",
      "Epoch [2/50], Step [400/600], Loss: 1.5616\n",
      "Epoch [2/50], Step [500/600], Loss: 1.4856\n",
      "Epoch [2/50], Step [600/600], Loss: 1.3835\n",
      "Epoch [3/50], Step [100/600], Loss: 1.4589\n",
      "Epoch [3/50], Step [200/600], Loss: 1.3986\n",
      "Epoch [3/50], Step [300/600], Loss: 1.3356\n",
      "Epoch [3/50], Step [400/600], Loss: 1.3060\n",
      "Epoch [3/50], Step [500/600], Loss: 1.2220\n",
      "Epoch [3/50], Step [600/600], Loss: 1.2091\n",
      "Epoch [4/50], Step [100/600], Loss: 1.2329\n",
      "Epoch [4/50], Step [200/600], Loss: 1.1917\n",
      "Epoch [4/50], Step [300/600], Loss: 1.1335\n",
      "Epoch [4/50], Step [400/600], Loss: 1.1219\n",
      "Epoch [4/50], Step [500/600], Loss: 1.0504\n",
      "Epoch [4/50], Step [600/600], Loss: 1.0444\n",
      "Epoch [5/50], Step [100/600], Loss: 1.1881\n",
      "Epoch [5/50], Step [200/600], Loss: 1.1106\n",
      "Epoch [5/50], Step [300/600], Loss: 1.0292\n",
      "Epoch [5/50], Step [400/600], Loss: 1.1142\n",
      "Epoch [5/50], Step [500/600], Loss: 0.9637\n",
      "Epoch [5/50], Step [600/600], Loss: 0.9896\n",
      "Epoch [6/50], Step [100/600], Loss: 1.0178\n",
      "Epoch [6/50], Step [200/600], Loss: 1.0836\n",
      "Epoch [6/50], Step [300/600], Loss: 0.9703\n",
      "Epoch [6/50], Step [400/600], Loss: 0.9408\n",
      "Epoch [6/50], Step [500/600], Loss: 0.9698\n",
      "Epoch [6/50], Step [600/600], Loss: 0.8534\n",
      "Epoch [7/50], Step [100/600], Loss: 0.9422\n",
      "Epoch [7/50], Step [200/600], Loss: 0.9891\n",
      "Epoch [7/50], Step [300/600], Loss: 0.9743\n",
      "Epoch [7/50], Step [400/600], Loss: 0.8946\n",
      "Epoch [7/50], Step [500/600], Loss: 0.8834\n",
      "Epoch [7/50], Step [600/600], Loss: 0.9958\n",
      "Epoch [8/50], Step [100/600], Loss: 0.8749\n",
      "Epoch [8/50], Step [200/600], Loss: 0.7936\n",
      "Epoch [8/50], Step [300/600], Loss: 0.8441\n",
      "Epoch [8/50], Step [400/600], Loss: 0.8405\n",
      "Epoch [8/50], Step [500/600], Loss: 0.8995\n",
      "Epoch [8/50], Step [600/600], Loss: 0.7240\n",
      "Epoch [9/50], Step [100/600], Loss: 0.7733\n",
      "Epoch [9/50], Step [200/600], Loss: 0.8213\n",
      "Epoch [9/50], Step [300/600], Loss: 0.7929\n",
      "Epoch [9/50], Step [400/600], Loss: 0.8823\n",
      "Epoch [9/50], Step [500/600], Loss: 0.7078\n",
      "Epoch [9/50], Step [600/600], Loss: 0.7336\n",
      "Epoch [10/50], Step [100/600], Loss: 0.7112\n",
      "Epoch [10/50], Step [200/600], Loss: 0.8567\n",
      "Epoch [10/50], Step [300/600], Loss: 0.7913\n",
      "Epoch [10/50], Step [400/600], Loss: 0.7447\n",
      "Epoch [10/50], Step [500/600], Loss: 0.7856\n",
      "Epoch [10/50], Step [600/600], Loss: 0.7822\n",
      "Epoch [11/50], Step [100/600], Loss: 0.7823\n",
      "Epoch [11/50], Step [200/600], Loss: 0.6321\n",
      "Epoch [11/50], Step [300/600], Loss: 0.6975\n",
      "Epoch [11/50], Step [400/600], Loss: 0.7319\n",
      "Epoch [11/50], Step [500/600], Loss: 0.7938\n",
      "Epoch [11/50], Step [600/600], Loss: 0.6705\n",
      "Epoch [12/50], Step [100/600], Loss: 0.6512\n",
      "Epoch [12/50], Step [200/600], Loss: 0.7338\n",
      "Epoch [12/50], Step [300/600], Loss: 0.6803\n",
      "Epoch [12/50], Step [400/600], Loss: 0.6610\n",
      "Epoch [12/50], Step [500/600], Loss: 0.7593\n",
      "Epoch [12/50], Step [600/600], Loss: 0.6368\n",
      "Epoch [13/50], Step [100/600], Loss: 0.6885\n",
      "Epoch [13/50], Step [200/600], Loss: 0.7153\n",
      "Epoch [13/50], Step [300/600], Loss: 0.6447\n",
      "Epoch [13/50], Step [400/600], Loss: 0.7132\n",
      "Epoch [13/50], Step [500/600], Loss: 0.6936\n",
      "Epoch [13/50], Step [600/600], Loss: 0.6607\n",
      "Epoch [14/50], Step [100/600], Loss: 0.6850\n",
      "Epoch [14/50], Step [200/600], Loss: 0.6706\n",
      "Epoch [14/50], Step [300/600], Loss: 0.6610\n",
      "Epoch [14/50], Step [400/600], Loss: 0.7065\n",
      "Epoch [14/50], Step [500/600], Loss: 0.6100\n",
      "Epoch [14/50], Step [600/600], Loss: 0.7177\n",
      "Epoch [15/50], Step [100/600], Loss: 0.6804\n",
      "Epoch [15/50], Step [200/600], Loss: 0.8542\n",
      "Epoch [15/50], Step [300/600], Loss: 0.6772\n",
      "Epoch [15/50], Step [400/600], Loss: 0.5451\n",
      "Epoch [15/50], Step [500/600], Loss: 0.6598\n",
      "Epoch [15/50], Step [600/600], Loss: 0.6243\n",
      "Epoch [16/50], Step [100/600], Loss: 0.7070\n",
      "Epoch [16/50], Step [200/600], Loss: 0.6103\n",
      "Epoch [16/50], Step [300/600], Loss: 0.6153\n",
      "Epoch [16/50], Step [400/600], Loss: 0.6108\n",
      "Epoch [16/50], Step [500/600], Loss: 0.7617\n",
      "Epoch [16/50], Step [600/600], Loss: 0.6363\n",
      "Epoch [17/50], Step [100/600], Loss: 0.6328\n",
      "Epoch [17/50], Step [200/600], Loss: 0.6279\n",
      "Epoch [17/50], Step [300/600], Loss: 0.6800\n",
      "Epoch [17/50], Step [400/600], Loss: 0.5554\n",
      "Epoch [17/50], Step [500/600], Loss: 0.5672\n",
      "Epoch [17/50], Step [600/600], Loss: 0.7105\n",
      "Epoch [18/50], Step [100/600], Loss: 0.6143\n",
      "Epoch [18/50], Step [200/600], Loss: 0.5415\n",
      "Epoch [18/50], Step [300/600], Loss: 0.6906\n",
      "Epoch [18/50], Step [400/600], Loss: 0.5331\n",
      "Epoch [18/50], Step [500/600], Loss: 0.4890\n",
      "Epoch [18/50], Step [600/600], Loss: 0.5955\n",
      "Epoch [19/50], Step [100/600], Loss: 0.6556\n",
      "Epoch [19/50], Step [200/600], Loss: 0.4769\n",
      "Epoch [19/50], Step [300/600], Loss: 0.5115\n",
      "Epoch [19/50], Step [400/600], Loss: 0.5382\n",
      "Epoch [19/50], Step [500/600], Loss: 0.5311\n",
      "Epoch [19/50], Step [600/600], Loss: 0.6580\n",
      "Epoch [20/50], Step [100/600], Loss: 0.7262\n",
      "Epoch [20/50], Step [200/600], Loss: 0.6170\n",
      "Epoch [20/50], Step [300/600], Loss: 0.4989\n",
      "Epoch [20/50], Step [400/600], Loss: 0.5843\n",
      "Epoch [20/50], Step [500/600], Loss: 0.5998\n",
      "Epoch [20/50], Step [600/600], Loss: 0.6873\n",
      "Epoch [21/50], Step [100/600], Loss: 0.5608\n",
      "Epoch [21/50], Step [200/600], Loss: 0.5640\n",
      "Epoch [21/50], Step [300/600], Loss: 0.5360\n",
      "Epoch [21/50], Step [400/600], Loss: 0.5719\n",
      "Epoch [21/50], Step [500/600], Loss: 0.6078\n",
      "Epoch [21/50], Step [600/600], Loss: 0.4704\n",
      "Epoch [22/50], Step [100/600], Loss: 0.5400\n",
      "Epoch [22/50], Step [200/600], Loss: 0.4826\n",
      "Epoch [22/50], Step [300/600], Loss: 0.5176\n",
      "Epoch [22/50], Step [400/600], Loss: 0.5630\n",
      "Epoch [22/50], Step [500/600], Loss: 0.5192\n",
      "Epoch [22/50], Step [600/600], Loss: 0.5865\n",
      "Epoch [23/50], Step [100/600], Loss: 0.4917\n",
      "Epoch [23/50], Step [200/600], Loss: 0.4767\n",
      "Epoch [23/50], Step [300/600], Loss: 0.5172\n",
      "Epoch [23/50], Step [400/600], Loss: 0.6345\n",
      "Epoch [23/50], Step [500/600], Loss: 0.4724\n",
      "Epoch [23/50], Step [600/600], Loss: 0.4470\n",
      "Epoch [24/50], Step [100/600], Loss: 0.4914\n",
      "Epoch [24/50], Step [200/600], Loss: 0.5142\n",
      "Epoch [24/50], Step [300/600], Loss: 0.5959\n",
      "Epoch [24/50], Step [400/600], Loss: 0.5942\n",
      "Epoch [24/50], Step [500/600], Loss: 0.6240\n",
      "Epoch [24/50], Step [600/600], Loss: 0.4730\n",
      "Epoch [25/50], Step [100/600], Loss: 0.5296\n",
      "Epoch [25/50], Step [200/600], Loss: 0.3634\n",
      "Epoch [25/50], Step [300/600], Loss: 0.5500\n",
      "Epoch [25/50], Step [400/600], Loss: 0.5333\n",
      "Epoch [25/50], Step [500/600], Loss: 0.6819\n",
      "Epoch [25/50], Step [600/600], Loss: 0.4463\n",
      "Epoch [26/50], Step [100/600], Loss: 0.4427\n",
      "Epoch [26/50], Step [200/600], Loss: 0.4655\n",
      "Epoch [26/50], Step [300/600], Loss: 0.5965\n",
      "Epoch [26/50], Step [400/600], Loss: 0.5916\n",
      "Epoch [26/50], Step [500/600], Loss: 0.5519\n",
      "Epoch [26/50], Step [600/600], Loss: 0.6919\n",
      "Epoch [27/50], Step [100/600], Loss: 0.4563\n",
      "Epoch [27/50], Step [200/600], Loss: 0.5419\n",
      "Epoch [27/50], Step [300/600], Loss: 0.5491\n",
      "Epoch [27/50], Step [400/600], Loss: 0.5488\n",
      "Epoch [27/50], Step [500/600], Loss: 0.4826\n",
      "Epoch [27/50], Step [600/600], Loss: 0.6574\n",
      "Epoch [28/50], Step [100/600], Loss: 0.4789\n",
      "Epoch [28/50], Step [200/600], Loss: 0.4877\n",
      "Epoch [28/50], Step [300/600], Loss: 0.5749\n",
      "Epoch [28/50], Step [400/600], Loss: 0.6477\n",
      "Epoch [28/50], Step [500/600], Loss: 0.5168\n",
      "Epoch [28/50], Step [600/600], Loss: 0.5330\n",
      "Epoch [29/50], Step [100/600], Loss: 0.5507\n",
      "Epoch [29/50], Step [200/600], Loss: 0.5638\n",
      "Epoch [29/50], Step [300/600], Loss: 0.5128\n",
      "Epoch [29/50], Step [400/600], Loss: 0.4884\n",
      "Epoch [29/50], Step [500/600], Loss: 0.4833\n",
      "Epoch [29/50], Step [600/600], Loss: 0.4055\n",
      "Epoch [30/50], Step [100/600], Loss: 0.5006\n",
      "Epoch [30/50], Step [200/600], Loss: 0.5107\n",
      "Epoch [30/50], Step [300/600], Loss: 0.5625\n",
      "Epoch [30/50], Step [400/600], Loss: 0.5185\n",
      "Epoch [30/50], Step [500/600], Loss: 0.5127\n",
      "Epoch [30/50], Step [600/600], Loss: 0.4920\n",
      "Epoch [31/50], Step [100/600], Loss: 0.4231\n",
      "Epoch [31/50], Step [200/600], Loss: 0.5284\n",
      "Epoch [31/50], Step [300/600], Loss: 0.5197\n",
      "Epoch [31/50], Step [400/600], Loss: 0.4778\n",
      "Epoch [31/50], Step [500/600], Loss: 0.4126\n",
      "Epoch [31/50], Step [600/600], Loss: 0.6981\n",
      "Epoch [32/50], Step [100/600], Loss: 0.4997\n",
      "Epoch [32/50], Step [200/600], Loss: 0.5323\n"
     ]
    },
    {
     "name": "stdout",
     "output_type": "stream",
     "text": [
      "Epoch [32/50], Step [300/600], Loss: 0.4868\n",
      "Epoch [32/50], Step [400/600], Loss: 0.5784\n",
      "Epoch [32/50], Step [500/600], Loss: 0.5380\n",
      "Epoch [32/50], Step [600/600], Loss: 0.5178\n",
      "Epoch [33/50], Step [100/600], Loss: 0.4260\n",
      "Epoch [33/50], Step [200/600], Loss: 0.4646\n",
      "Epoch [33/50], Step [300/600], Loss: 0.3985\n",
      "Epoch [33/50], Step [400/600], Loss: 0.4931\n",
      "Epoch [33/50], Step [500/600], Loss: 0.5646\n",
      "Epoch [33/50], Step [600/600], Loss: 0.5431\n",
      "Epoch [34/50], Step [100/600], Loss: 0.4137\n",
      "Epoch [34/50], Step [200/600], Loss: 0.4744\n",
      "Epoch [34/50], Step [300/600], Loss: 0.5260\n",
      "Epoch [34/50], Step [400/600], Loss: 0.4325\n",
      "Epoch [34/50], Step [500/600], Loss: 0.4976\n",
      "Epoch [34/50], Step [600/600], Loss: 0.5415\n",
      "Epoch [35/50], Step [100/600], Loss: 0.5118\n",
      "Epoch [35/50], Step [200/600], Loss: 0.4884\n",
      "Epoch [35/50], Step [300/600], Loss: 0.5219\n",
      "Epoch [35/50], Step [400/600], Loss: 0.5376\n",
      "Epoch [35/50], Step [500/600], Loss: 0.4282\n",
      "Epoch [35/50], Step [600/600], Loss: 0.5676\n",
      "Epoch [36/50], Step [100/600], Loss: 0.5023\n",
      "Epoch [36/50], Step [200/600], Loss: 0.5183\n",
      "Epoch [36/50], Step [300/600], Loss: 0.4814\n",
      "Epoch [36/50], Step [400/600], Loss: 0.5001\n",
      "Epoch [36/50], Step [500/600], Loss: 0.5823\n",
      "Epoch [36/50], Step [600/600], Loss: 0.3739\n",
      "Epoch [37/50], Step [100/600], Loss: 0.5880\n",
      "Epoch [37/50], Step [200/600], Loss: 0.4794\n",
      "Epoch [37/50], Step [300/600], Loss: 0.4992\n",
      "Epoch [37/50], Step [400/600], Loss: 0.4971\n",
      "Epoch [37/50], Step [500/600], Loss: 0.4604\n",
      "Epoch [37/50], Step [600/600], Loss: 0.4069\n",
      "Epoch [38/50], Step [100/600], Loss: 0.4049\n",
      "Epoch [38/50], Step [200/600], Loss: 0.5255\n",
      "Epoch [38/50], Step [300/600], Loss: 0.5352\n",
      "Epoch [38/50], Step [400/600], Loss: 0.4772\n",
      "Epoch [38/50], Step [500/600], Loss: 0.4151\n",
      "Epoch [38/50], Step [600/600], Loss: 0.5195\n",
      "Epoch [39/50], Step [100/600], Loss: 0.4069\n",
      "Epoch [39/50], Step [200/600], Loss: 0.4770\n",
      "Epoch [39/50], Step [300/600], Loss: 0.4350\n",
      "Epoch [39/50], Step [400/600], Loss: 0.5194\n",
      "Epoch [39/50], Step [500/600], Loss: 0.4801\n",
      "Epoch [39/50], Step [600/600], Loss: 0.5303\n",
      "Epoch [40/50], Step [100/600], Loss: 0.5498\n",
      "Epoch [40/50], Step [200/600], Loss: 0.4356\n",
      "Epoch [40/50], Step [300/600], Loss: 0.4907\n",
      "Epoch [40/50], Step [400/600], Loss: 0.2798\n",
      "Epoch [40/50], Step [500/600], Loss: 0.3832\n",
      "Epoch [40/50], Step [600/600], Loss: 0.6168\n",
      "Epoch [41/50], Step [100/600], Loss: 0.3306\n",
      "Epoch [41/50], Step [200/600], Loss: 0.5031\n",
      "Epoch [41/50], Step [300/600], Loss: 0.4275\n",
      "Epoch [41/50], Step [400/600], Loss: 0.4533\n",
      "Epoch [41/50], Step [500/600], Loss: 0.3570\n",
      "Epoch [41/50], Step [600/600], Loss: 0.3618\n",
      "Epoch [42/50], Step [100/600], Loss: 0.4777\n",
      "Epoch [42/50], Step [200/600], Loss: 0.4576\n",
      "Epoch [42/50], Step [300/600], Loss: 0.4209\n",
      "Epoch [42/50], Step [400/600], Loss: 0.4420\n",
      "Epoch [42/50], Step [500/600], Loss: 0.4839\n",
      "Epoch [42/50], Step [600/600], Loss: 0.4330\n",
      "Epoch [43/50], Step [100/600], Loss: 0.3629\n",
      "Epoch [43/50], Step [200/600], Loss: 0.4467\n",
      "Epoch [43/50], Step [300/600], Loss: 0.4498\n",
      "Epoch [43/50], Step [400/600], Loss: 0.4054\n",
      "Epoch [43/50], Step [500/600], Loss: 0.3648\n",
      "Epoch [43/50], Step [600/600], Loss: 0.3646\n",
      "Epoch [44/50], Step [100/600], Loss: 0.4410\n",
      "Epoch [44/50], Step [200/600], Loss: 0.4619\n",
      "Epoch [44/50], Step [300/600], Loss: 0.4963\n",
      "Epoch [44/50], Step [400/600], Loss: 0.4827\n",
      "Epoch [44/50], Step [500/600], Loss: 0.5532\n",
      "Epoch [44/50], Step [600/600], Loss: 0.4706\n",
      "Epoch [45/50], Step [100/600], Loss: 0.4283\n",
      "Epoch [45/50], Step [200/600], Loss: 0.4562\n",
      "Epoch [45/50], Step [300/600], Loss: 0.3961\n",
      "Epoch [45/50], Step [400/600], Loss: 0.5064\n",
      "Epoch [45/50], Step [500/600], Loss: 0.3933\n",
      "Epoch [45/50], Step [600/600], Loss: 0.5196\n",
      "Epoch [46/50], Step [100/600], Loss: 0.4437\n",
      "Epoch [46/50], Step [200/600], Loss: 0.5003\n",
      "Epoch [46/50], Step [300/600], Loss: 0.4672\n",
      "Epoch [46/50], Step [400/600], Loss: 0.4721\n",
      "Epoch [46/50], Step [500/600], Loss: 0.3977\n",
      "Epoch [46/50], Step [600/600], Loss: 0.5487\n",
      "Epoch [47/50], Step [100/600], Loss: 0.4683\n",
      "Epoch [47/50], Step [200/600], Loss: 0.4476\n",
      "Epoch [47/50], Step [300/600], Loss: 0.4320\n",
      "Epoch [47/50], Step [400/600], Loss: 0.5019\n",
      "Epoch [47/50], Step [500/600], Loss: 0.3784\n",
      "Epoch [47/50], Step [600/600], Loss: 0.4766\n",
      "Epoch [48/50], Step [100/600], Loss: 0.3055\n",
      "Epoch [48/50], Step [200/600], Loss: 0.5552\n",
      "Epoch [48/50], Step [300/600], Loss: 0.5011\n",
      "Epoch [48/50], Step [400/600], Loss: 0.3733\n",
      "Epoch [48/50], Step [500/600], Loss: 0.4127\n",
      "Epoch [48/50], Step [600/600], Loss: 0.5186\n",
      "Epoch [49/50], Step [100/600], Loss: 0.5034\n",
      "Epoch [49/50], Step [200/600], Loss: 0.5516\n",
      "Epoch [49/50], Step [300/600], Loss: 0.4141\n",
      "Epoch [49/50], Step [400/600], Loss: 0.3953\n",
      "Epoch [49/50], Step [500/600], Loss: 0.4360\n",
      "Epoch [49/50], Step [600/600], Loss: 0.3819\n",
      "Epoch [50/50], Step [100/600], Loss: 0.3487\n",
      "Epoch [50/50], Step [200/600], Loss: 0.3564\n",
      "Epoch [50/50], Step [300/600], Loss: 0.4549\n",
      "Epoch [50/50], Step [400/600], Loss: 0.4752\n",
      "Epoch [50/50], Step [500/600], Loss: 0.3492\n",
      "Epoch [50/50], Step [600/600], Loss: 0.4722\n"
     ]
    }
   ],
   "source": [
    "# 训练模型\n",
    "train_loss = []\n",
    "    \n",
    "total_step = len(train_loader)\n",
    "for epoch in range(num_epochs):\n",
    "    for i, (images, labels) in enumerate(train_loader):\n",
    "\n",
    "        images = images.reshape(-1, 28*28).to(device)\n",
    "        labels = labels.to(device)\n",
    "\n",
    "        # 前向传递\n",
    "        outputs = model(images)\n",
    "        loss = criterion(outputs, labels)\n",
    "\n",
    "        # 后向传播和优化\n",
    "        optimizer.zero_grad()\n",
    "        loss.backward()\n",
    "        optimizer.step()\n",
    "\n",
    "\n",
    "        if (i+1) % 100 == 0:\n",
    "            print ('Epoch [{}/{}], Step [{}/{}], Loss: {:.4f}' \n",
    "                   .format(epoch+1, num_epochs, i+1, total_step, loss.item()))\n",
    "            train_loss.append(loss.data.cpu())\n"
   ]
  },
  {
   "cell_type": "code",
   "execution_count": 15,
   "id": "2f84e396",
   "metadata": {},
   "outputs": [
    {
     "name": "stdout",
     "output_type": "stream",
     "text": [
      "Accuracy of the model on the 10000 test images: 89.35 %\n"
     ]
    }
   ],
   "source": [
    "with torch.no_grad():\n",
    "    correct = 0\n",
    "    total = 0\n",
    "    temp = 0\n",
    "    for i,(images, labels) in enumerate(test_loader):\n",
    "        images = images.reshape(-1, 28*28).to(device)\n",
    "        labels = labels.to(device)\n",
    "\n",
    "        outputs = model(images)\n",
    "        loss = criterion(outputs, labels)\n",
    "\n",
    "        _, predicted = torch.max(outputs.data, 1)\n",
    "        total += labels.size(0)\n",
    "        correct += (predicted == labels).sum().item()\n",
    "\n",
    "\n",
    "print('Accuracy of the model on the 10000 test images: {} %'.format(100 * correct / total))"
   ]
  },
  {
   "cell_type": "code",
   "execution_count": 14,
   "id": "08d12289",
   "metadata": {},
   "outputs": [],
   "source": [
    "torch.save(model.state_dict(),'testLog_model.pth')"
   ]
  },
  {
   "cell_type": "code",
   "execution_count": 13,
   "id": "cc8c6049",
   "metadata": {},
   "outputs": [
    {
     "data": {
      "image/png": "[encoded data removed]",
      "text/plain": [
       "<Figure size 640x480 with 1 Axes>"
      ]
     },
     "metadata": {},
     "output_type": "display_data"
    }
   ],
   "source": [
    "# 绘制loss曲线\n",
    "import matplotlib.pyplot as plt\n",
    "\n",
    "\n",
    "plt.plot([i for i in range(1, len(train_loss)+1)], train_loss, label=\"train\")\n",
    "plt.legend()\n",
    "plt.show()"
   ]
  },
  {
   "cell_type": "code",
   "execution_count": 16,
   "id": "1420c2ea",
   "metadata": {},
   "outputs": [
    {
     "name": "stdout",
     "output_type": "stream",
     "text": [
      "0.jpg\n",
      "1.jpg\n",
      "2.jpg\n",
      "3.jpg\n",
      "4.jpg\n",
      "5.jpg\n",
      "6.jpg\n",
      "7.jpg\n",
      "8.jpg\n",
      "9.jpg\n"
     ]
    }
   ],
   "source": [
    "import os\n",
    "from PIL import Image\n",
    "import re\n",
    "import numpy as np\n",
    "import matplotlib.pyplot as plt\n",
    "import matplotlib\n",
    "\n",
    "# this function is for read image,the input is directory name\n",
    "def read_directory(directory_name):\n",
    "    # this loop is for read each image in this foder,directory_name is the foder name with images.\n",
    "    file=open('E:/MyProject/digits/data.txt','w') \n",
    "    for filename in os.listdir(directory_name):\n",
    "        #img is used to store the image data \n",
    "        img = Image.open(directory_name + \"/\" + filename)\n",
    "        img = img.convert('L')  # 灰度化\n",
    "        img_array = np.array(img)\n",
    "        X_temp = np.array((255-img_array), dtype=float)\n",
    "    \n",
    "        print(filename)\n",
    "        file.write(str(X_temp)); \n",
    "    file.close()\n",
    "\n",
    "read_directory(\"E:/MyProject/digits/img\")\n",
    "\n",
    "# 打开文件\n",
    "f = open('E:/MyProject/digits/data.txt','r')\n",
    "fs = f.readlines()\n",
    "s = fs\n",
    "f.close()\n",
    "\n",
    "# 正则过滤非数字\n",
    "for i in range(len(s)):\n",
    "        s[i] = re.sub(r'\\D', \" \", s[i])\n",
    "           \n",
    "# 将 s 按空格拆分存到 spl 中   \n",
    "sp = []\n",
    "spl = [] \n",
    "for i in range(len(s)):\n",
    "    sp = s[i].split()\n",
    "    for j in range(len(sp)):\n",
    "         spl.append(sp[j])\n",
    "                   \n",
    "arr= []\n",
    "arr2 = []\n",
    "\n",
    "# 按每784个一组，将spl中的数据存到arr2中\n",
    "for l in range(int(len(spl)/784)):\n",
    "    for i in range(784*l,784*(l+1)):\n",
    "        arr.append(spl[i])\n",
    "    \n",
    "    arr2.append(arr)\n",
    "    arr = []\n",
    "    \n",
    "# 将 arr2 转换为数组存入arr3\n",
    "arr3=np.asarray(arr2)"
   ]
  },
  {
   "cell_type": "code",
   "execution_count": 17,
   "id": "2586a386",
   "metadata": {},
   "outputs": [],
   "source": [
    "def processing(img_input):\n",
    "    arr3_mat = np.mat(img_input)\n",
    "    arr3_mat = arr3_mat.astype(float)\n",
    "    arr4 = torch.from_numpy(arr3_mat)\n",
    "    img = arr4/255\n",
    "    img = img.type(torch.FloatTensor)\n",
    "    img_output = img.to(device)\n",
    "    return img_output"
   ]
  },
  {
   "cell_type": "code",
   "execution_count": 18,
   "id": "8a63e58a",
   "metadata": {},
   "outputs": [],
   "source": [
    "def predict(arr3):\n",
    "    y_predict = []\n",
    "    for i in range(arr3.shape[0]):\n",
    "        \n",
    "        img = processing(arr3[i])\n",
    "        \n",
    "        with torch.no_grad():\n",
    "            out1 = model(img)  \n",
    "            predicted, index  = torch.max(out1, 1)\n",
    "            degree = int(index[0])            \n",
    "            y_predict.append(degree)\n",
    "            \n",
    "    return y_predict\n",
    "        "
   ]
  },
  {
   "cell_type": "code",
   "execution_count": 59,
   "id": "439d426d",
   "metadata": {},
   "outputs": [
    {
     "data": {
      "text/plain": [
       "<All keys matched successfully>"
      ]
     },
     "execution_count": 59,
     "metadata": {},
     "output_type": "execute_result"
    }
   ],
   "source": [
    "#读取模型\n",
    "path = 'E:/MachineLearning/手写字符识别项目/testLog_model.pth'\n",
    "check = torch.load(path)\n",
    "model.load_state_dict(check)\n"
   ]
  },
  {
   "cell_type": "code",
   "execution_count": 19,
   "id": "71d4b83e",
   "metadata": {},
   "outputs": [
    {
     "data": {
      "text/plain": [
       "[0, 8, 2, 6, 4, 3, 5, 0, 8, 8]"
      ]
     },
     "execution_count": 19,
     "metadata": {},
     "output_type": "execute_result"
    }
   ],
   "source": [
    "y_predict = predict(arr3)\n",
    "y_predict"
   ]
  },
  {
   "cell_type": "code",
   "execution_count": null,
   "id": "28bdb4d5",
   "metadata": {},
   "outputs": [],
   "source": []
  }
 ],
 "metadata": {
  "kernelspec": {
   "display_name": "Python [conda env:pytorch_gpu]",
   "language": "python",
   "name": "conda-env-pytorch_gpu-py"
  },
  "language_info": {
   "codemirror_mode": {
    "name": "ipython",
    "version": 3
   },
   "file_extension": ".py",
   "mimetype": "text/x-python",
   "name": "python",
   "nbconvert_exporter": "python",
   "pygments_lexer": "ipython3",
   "version": "3.9.13"
  }
 },
 "nbformat": 4,
 "nbformat_minor": 5
}
